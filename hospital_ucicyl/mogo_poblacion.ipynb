{
 "cells": [
  {
   "cell_type": "code",
   "execution_count": 2,
   "metadata": {},
   "outputs": [],
   "source": [
    "import pandas as pd"
   ]
  },
  {
   "cell_type": "code",
   "execution_count": 3,
   "metadata": {},
   "outputs": [
    {
     "name": "stdout",
     "output_type": "stream",
     "text": [
      "Requirement already satisfied: pymongo in c:\\users\\pinil\\anaconda3\\lib\\site-packages (3.11.3)\n",
      "Note: you may need to restart the kernel to use updated packages.\n"
     ]
    }
   ],
   "source": [
    "pip install pymongo"
   ]
  },
  {
   "cell_type": "code",
   "execution_count": 4,
   "metadata": {},
   "outputs": [],
   "source": [
    "from pymongo import MongoClient"
   ]
  },
  {
   "cell_type": "code",
   "execution_count": 5,
   "metadata": {},
   "outputs": [],
   "source": [
    "client=MongoClient(\"localhost:27017\")"
   ]
  },
  {
   "cell_type": "code",
   "execution_count": 6,
   "metadata": {},
   "outputs": [
    {
     "data": {
      "text/plain": [
       "['Ironhack', 'MODULO2_PROYECT', 'admin', 'config', 'local']"
      ]
     },
     "execution_count": 6,
     "metadata": {},
     "output_type": "execute_result"
    }
   ],
   "source": [
    "client.list_database_names()"
   ]
  },
  {
   "cell_type": "code",
   "execution_count": 7,
   "metadata": {},
   "outputs": [],
   "source": [
    "db=client.get_database(\"MODULO2_PROYECT\")"
   ]
  },
  {
   "cell_type": "code",
   "execution_count": 8,
   "metadata": {},
   "outputs": [
    {
     "data": {
      "text/plain": [
       "['POBLACION_2019']"
      ]
     },
     "execution_count": 8,
     "metadata": {},
     "output_type": "execute_result"
    }
   ],
   "source": [
    "db.list_collection_names()"
   ]
  },
  {
   "cell_type": "code",
   "execution_count": 9,
   "metadata": {},
   "outputs": [
    {
     "data": {
      "text/plain": [
       "Collection(Database(MongoClient(host=['localhost:27017'], document_class=dict, tz_aware=False, connect=True), 'MODULO2_PROYECT'), 'POBLACION_2019')"
      ]
     },
     "execution_count": 9,
     "metadata": {},
     "output_type": "execute_result"
    }
   ],
   "source": [
    "collection=db.get_collection(\"POBLACION_2019\")\n",
    "collection"
   ]
  },
  {
   "cell_type": "code",
   "execution_count": 10,
   "metadata": {},
   "outputs": [],
   "source": [
    "c=collection"
   ]
  },
  {
   "cell_type": "code",
   "execution_count": 11,
   "metadata": {},
   "outputs": [
    {
     "data": {
      "text/plain": [
       "dict_keys(['_id', 'FECHA', 'SEXO', 'PROVINCIA', 'POBLACIÓN'])"
      ]
     },
     "execution_count": 11,
     "metadata": {},
     "output_type": "execute_result"
    }
   ],
   "source": [
    "c.find_one().keys()"
   ]
  },
  {
   "cell_type": "code",
   "execution_count": 17,
   "metadata": {},
   "outputs": [],
   "source": [
    "query = {\"FECHA\": {\"$exists\": True}}\n",
    "proj = {\"_id\": 0, \"FECHA\": 1,\"PROVINCIA\":1,\"POBLACIÓN\":1}"
   ]
  },
  {
   "cell_type": "code",
   "execution_count": 18,
   "metadata": {},
   "outputs": [
    {
     "data": {
      "text/plain": [
       "[{'FECHA': '2019', 'PROVINCIA': 'AVILA', 'POBLACIÓN': '78569'},\n",
       " {'FECHA': '2019', 'PROVINCIA': 'AVILA', 'POBLACIÓN': '79071'},\n",
       " {'FECHA': '2019', 'PROVINCIA': 'LEON', 'POBLACIÓN': '223744'},\n",
       " {'FECHA': '2019', 'PROVINCIA': 'SALAMANCA', 'POBLACIÓN': '160364'},\n",
       " {'FECHA': '2019', 'PROVINCIA': 'BURGOS', 'POBLACIÓN': '178728'},\n",
       " {'FECHA': '2019', 'PROVINCIA': 'SEGOVIA', 'POBLACIÓN': '76813'},\n",
       " {'FECHA': '2019', 'PROVINCIA': 'LEON', 'POBLACIÓN': '236257'},\n",
       " {'FECHA': '2019', 'PROVINCIA': 'PALENCIA', 'POBLACIÓN': '81172'},\n",
       " {'FECHA': '2019', 'PROVINCIA': 'SALAMANCA', 'POBLACIÓN': '169755'},\n",
       " {'FECHA': '2019', 'PROVINCIA': 'SORIA', 'POBLACIÓN': '43822'},\n",
       " {'FECHA': '2019', 'PROVINCIA': 'VALLADOLID', 'POBLACIÓN': '266330'},\n",
       " {'FECHA': '2019', 'PROVINCIA': 'ZAMORA', 'POBLACIÓN': '87198'},\n",
       " {'FECHA': '2019', 'PROVINCIA': 'BURGOS', 'POBLACIÓN': '178230'},\n",
       " {'FECHA': '2019', 'PROVINCIA': 'PALENCIA', 'POBLACIÓN': '79808'},\n",
       " {'FECHA': '2019', 'PROVINCIA': 'SORIA', 'POBLACIÓN': '44814'},\n",
       " {'FECHA': '2019', 'PROVINCIA': 'VALLADOLID', 'POBLACIÓN': '253216'},\n",
       " {'FECHA': '2019', 'PROVINCIA': 'ZAMORA', 'POBLACIÓN': '85341'},\n",
       " {'FECHA': '2019', 'PROVINCIA': 'SEGOVIA', 'POBLACIÓN': '76316'}]"
      ]
     },
     "execution_count": 18,
     "metadata": {},
     "output_type": "execute_result"
    }
   ],
   "source": [
    "poblacion=list(c.find(query,proj))\n",
    "poblacion"
   ]
  },
  {
   "cell_type": "code",
   "execution_count": 22,
   "metadata": {},
   "outputs": [
    {
     "data": {
      "text/html": [
       "<div>\n",
       "<style scoped>\n",
       "    .dataframe tbody tr th:only-of-type {\n",
       "        vertical-align: middle;\n",
       "    }\n",
       "\n",
       "    .dataframe tbody tr th {\n",
       "        vertical-align: top;\n",
       "    }\n",
       "\n",
       "    .dataframe thead th {\n",
       "        text-align: right;\n",
       "    }\n",
       "</style>\n",
       "<table border=\"1\" class=\"dataframe\">\n",
       "  <thead>\n",
       "    <tr style=\"text-align: right;\">\n",
       "      <th></th>\n",
       "      <th>FECHA</th>\n",
       "      <th>PROVINCIA</th>\n",
       "      <th>POBLACIÓN</th>\n",
       "    </tr>\n",
       "  </thead>\n",
       "  <tbody>\n",
       "    <tr>\n",
       "      <th>0</th>\n",
       "      <td>2019</td>\n",
       "      <td>AVILA</td>\n",
       "      <td>78569</td>\n",
       "    </tr>\n",
       "    <tr>\n",
       "      <th>1</th>\n",
       "      <td>2019</td>\n",
       "      <td>AVILA</td>\n",
       "      <td>79071</td>\n",
       "    </tr>\n",
       "    <tr>\n",
       "      <th>2</th>\n",
       "      <td>2019</td>\n",
       "      <td>LEON</td>\n",
       "      <td>223744</td>\n",
       "    </tr>\n",
       "    <tr>\n",
       "      <th>3</th>\n",
       "      <td>2019</td>\n",
       "      <td>SALAMANCA</td>\n",
       "      <td>160364</td>\n",
       "    </tr>\n",
       "    <tr>\n",
       "      <th>4</th>\n",
       "      <td>2019</td>\n",
       "      <td>BURGOS</td>\n",
       "      <td>178728</td>\n",
       "    </tr>\n",
       "  </tbody>\n",
       "</table>\n",
       "</div>"
      ],
      "text/plain": [
       "  FECHA  PROVINCIA POBLACIÓN\n",
       "0  2019      AVILA     78569\n",
       "1  2019      AVILA     79071\n",
       "2  2019       LEON    223744\n",
       "3  2019  SALAMANCA    160364\n",
       "4  2019     BURGOS    178728"
      ]
     },
     "execution_count": 22,
     "metadata": {},
     "output_type": "execute_result"
    }
   ],
   "source": [
    "df = pd.DataFrame(poblacion)\n",
    "df.head()"
   ]
  },
  {
   "cell_type": "code",
   "execution_count": 23,
   "metadata": {},
   "outputs": [],
   "source": [
    "df.to_excel(\"poblacion_provincias_csv.xlsx\")"
   ]
  },
  {
   "cell_type": "code",
   "execution_count": null,
   "metadata": {},
   "outputs": [],
   "source": []
  },
  {
   "cell_type": "code",
   "execution_count": null,
   "metadata": {},
   "outputs": [],
   "source": []
  }
 ],
 "metadata": {
  "kernelspec": {
   "display_name": "Python 3",
   "language": "python",
   "name": "python3"
  },
  "language_info": {
   "codemirror_mode": {
    "name": "ipython",
    "version": 3
   },
   "file_extension": ".py",
   "mimetype": "text/x-python",
   "name": "python",
   "nbconvert_exporter": "python",
   "pygments_lexer": "ipython3",
   "version": "3.8.3"
  }
 },
 "nbformat": 4,
 "nbformat_minor": 4
}
